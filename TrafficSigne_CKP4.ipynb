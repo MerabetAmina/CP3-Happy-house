{
  "nbformat": 4,
  "nbformat_minor": 0,
  "metadata": {
    "colab": {
      "provenance": [],
      "collapsed_sections": []
    },
    "kernelspec": {
      "name": "python3",
      "display_name": "Python 3"
    },
    "language_info": {
      "name": "python"
    }
  },
  "cells": [
    {
      "cell_type": "code",
      "execution_count": 1,
      "metadata": {
        "colab": {
          "base_uri": "https://localhost:8080/"
        },
        "id": "DceRdepXohsN",
        "outputId": "bf08044f-4637-4ada-e34a-2e08db4a5a7e"
      },
      "outputs": [
        {
          "output_type": "stream",
          "name": "stdout",
          "text": [
            "Cloning into 'german-traffic-signs'...\n",
            "Unpacking objects: 100% (6/6), done.\n"
          ]
        }
      ],
      "source": [
        "!git clone https://bitbucket.org/jadslim/german-traffic-signs"
      ]
    },
    {
      "cell_type": "code",
      "source": [
        "!ls german-traffic-signs/"
      ],
      "metadata": {
        "colab": {
          "base_uri": "https://localhost:8080/"
        },
        "id": "gV6Zhr4Jo7Bt",
        "outputId": "1532b558-c2fe-4bb6-d664-ef551296443b"
      },
      "execution_count": 2,
      "outputs": [
        {
          "output_type": "stream",
          "name": "stdout",
          "text": [
            "signnames.csv  test.p  train.p\tvalid.p\n"
          ]
        }
      ]
    },
    {
      "cell_type": "code",
      "source": [
        "import pandas as pd\n",
        "df = pd.read_csv('german-traffic-signs/signnames.csv')\n",
        "df.head(5)"
      ],
      "metadata": {
        "colab": {
          "base_uri": "https://localhost:8080/",
          "height": 206
        },
        "id": "ZxEE9aFHo94U",
        "outputId": "1c506f5a-4851-4045-e724-8ece5429a513"
      },
      "execution_count": 3,
      "outputs": [
        {
          "output_type": "execute_result",
          "data": {
            "text/plain": [
              "   ClassId              SignName\n",
              "0        0  Speed limit (20km/h)\n",
              "1        1  Speed limit (30km/h)\n",
              "2        2  Speed limit (50km/h)\n",
              "3        3  Speed limit (60km/h)\n",
              "4        4  Speed limit (70km/h)"
            ],
            "text/html": [
              "\n",
              "  <div id=\"df-d552af2f-78d8-4272-b4cf-e402f6703965\">\n",
              "    <div class=\"colab-df-container\">\n",
              "      <div>\n",
              "<style scoped>\n",
              "    .dataframe tbody tr th:only-of-type {\n",
              "        vertical-align: middle;\n",
              "    }\n",
              "\n",
              "    .dataframe tbody tr th {\n",
              "        vertical-align: top;\n",
              "    }\n",
              "\n",
              "    .dataframe thead th {\n",
              "        text-align: right;\n",
              "    }\n",
              "</style>\n",
              "<table border=\"1\" class=\"dataframe\">\n",
              "  <thead>\n",
              "    <tr style=\"text-align: right;\">\n",
              "      <th></th>\n",
              "      <th>ClassId</th>\n",
              "      <th>SignName</th>\n",
              "    </tr>\n",
              "  </thead>\n",
              "  <tbody>\n",
              "    <tr>\n",
              "      <th>0</th>\n",
              "      <td>0</td>\n",
              "      <td>Speed limit (20km/h)</td>\n",
              "    </tr>\n",
              "    <tr>\n",
              "      <th>1</th>\n",
              "      <td>1</td>\n",
              "      <td>Speed limit (30km/h)</td>\n",
              "    </tr>\n",
              "    <tr>\n",
              "      <th>2</th>\n",
              "      <td>2</td>\n",
              "      <td>Speed limit (50km/h)</td>\n",
              "    </tr>\n",
              "    <tr>\n",
              "      <th>3</th>\n",
              "      <td>3</td>\n",
              "      <td>Speed limit (60km/h)</td>\n",
              "    </tr>\n",
              "    <tr>\n",
              "      <th>4</th>\n",
              "      <td>4</td>\n",
              "      <td>Speed limit (70km/h)</td>\n",
              "    </tr>\n",
              "  </tbody>\n",
              "</table>\n",
              "</div>\n",
              "      <button class=\"colab-df-convert\" onclick=\"convertToInteractive('df-d552af2f-78d8-4272-b4cf-e402f6703965')\"\n",
              "              title=\"Convert this dataframe to an interactive table.\"\n",
              "              style=\"display:none;\">\n",
              "        \n",
              "  <svg xmlns=\"http://www.w3.org/2000/svg\" height=\"24px\"viewBox=\"0 0 24 24\"\n",
              "       width=\"24px\">\n",
              "    <path d=\"M0 0h24v24H0V0z\" fill=\"none\"/>\n",
              "    <path d=\"M18.56 5.44l.94 2.06.94-2.06 2.06-.94-2.06-.94-.94-2.06-.94 2.06-2.06.94zm-11 1L8.5 8.5l.94-2.06 2.06-.94-2.06-.94L8.5 2.5l-.94 2.06-2.06.94zm10 10l.94 2.06.94-2.06 2.06-.94-2.06-.94-.94-2.06-.94 2.06-2.06.94z\"/><path d=\"M17.41 7.96l-1.37-1.37c-.4-.4-.92-.59-1.43-.59-.52 0-1.04.2-1.43.59L10.3 9.45l-7.72 7.72c-.78.78-.78 2.05 0 2.83L4 21.41c.39.39.9.59 1.41.59.51 0 1.02-.2 1.41-.59l7.78-7.78 2.81-2.81c.8-.78.8-2.07 0-2.86zM5.41 20L4 18.59l7.72-7.72 1.47 1.35L5.41 20z\"/>\n",
              "  </svg>\n",
              "      </button>\n",
              "      \n",
              "  <style>\n",
              "    .colab-df-container {\n",
              "      display:flex;\n",
              "      flex-wrap:wrap;\n",
              "      gap: 12px;\n",
              "    }\n",
              "\n",
              "    .colab-df-convert {\n",
              "      background-color: #E8F0FE;\n",
              "      border: none;\n",
              "      border-radius: 50%;\n",
              "      cursor: pointer;\n",
              "      display: none;\n",
              "      fill: #1967D2;\n",
              "      height: 32px;\n",
              "      padding: 0 0 0 0;\n",
              "      width: 32px;\n",
              "    }\n",
              "\n",
              "    .colab-df-convert:hover {\n",
              "      background-color: #E2EBFA;\n",
              "      box-shadow: 0px 1px 2px rgba(60, 64, 67, 0.3), 0px 1px 3px 1px rgba(60, 64, 67, 0.15);\n",
              "      fill: #174EA6;\n",
              "    }\n",
              "\n",
              "    [theme=dark] .colab-df-convert {\n",
              "      background-color: #3B4455;\n",
              "      fill: #D2E3FC;\n",
              "    }\n",
              "\n",
              "    [theme=dark] .colab-df-convert:hover {\n",
              "      background-color: #434B5C;\n",
              "      box-shadow: 0px 1px 3px 1px rgba(0, 0, 0, 0.15);\n",
              "      filter: drop-shadow(0px 1px 2px rgba(0, 0, 0, 0.3));\n",
              "      fill: #FFFFFF;\n",
              "    }\n",
              "  </style>\n",
              "\n",
              "      <script>\n",
              "        const buttonEl =\n",
              "          document.querySelector('#df-d552af2f-78d8-4272-b4cf-e402f6703965 button.colab-df-convert');\n",
              "        buttonEl.style.display =\n",
              "          google.colab.kernel.accessAllowed ? 'block' : 'none';\n",
              "\n",
              "        async function convertToInteractive(key) {\n",
              "          const element = document.querySelector('#df-d552af2f-78d8-4272-b4cf-e402f6703965');\n",
              "          const dataTable =\n",
              "            await google.colab.kernel.invokeFunction('convertToInteractive',\n",
              "                                                     [key], {});\n",
              "          if (!dataTable) return;\n",
              "\n",
              "          const docLinkHtml = 'Like what you see? Visit the ' +\n",
              "            '<a target=\"_blank\" href=https://colab.research.google.com/notebooks/data_table.ipynb>data table notebook</a>'\n",
              "            + ' to learn more about interactive tables.';\n",
              "          element.innerHTML = '';\n",
              "          dataTable['output_type'] = 'display_data';\n",
              "          await google.colab.output.renderOutput(dataTable, element);\n",
              "          const docLink = document.createElement('div');\n",
              "          docLink.innerHTML = docLinkHtml;\n",
              "          element.appendChild(docLink);\n",
              "        }\n",
              "      </script>\n",
              "    </div>\n",
              "  </div>\n",
              "  "
            ]
          },
          "metadata": {},
          "execution_count": 3
        }
      ]
    },
    {
      "cell_type": "code",
      "source": [
        "import keras\n",
        "from keras.models import Sequential\n",
        "from keras.layers import Dense, Flatten, Dropout\n",
        "from keras.layers.convolutional import Conv2D, MaxPooling2D\n",
        "from keras.utils.np_utils import to_categorical\n",
        "from keras.optimizers import Adam\n",
        "import matplotlib.pyplot as plt\n",
        "import numpy as np\n",
        "import pickle\n",
        "import random \n",
        "import pandas as pd\n",
        "import cv2"
      ],
      "metadata": {
        "id": "k3AKs_j4o1N3"
      },
      "execution_count": 48,
      "outputs": []
    },
    {
      "cell_type": "code",
      "source": [
        "np.random.seed(0)\n",
        "with open('german-traffic-signs/train.p', 'rb') as f:\n",
        "    train_data = pickle.load(f)\n",
        "with open('german-traffic-signs/test.p', 'rb') as f:\n",
        "    test_data = pickle.load(f)\n",
        "with open('german-traffic-signs/valid.p', 'rb') as f:\n",
        "    valid_data = pickle.load(f)"
      ],
      "metadata": {
        "id": "B1xcxkQuo_CO"
      },
      "execution_count": 5,
      "outputs": []
    },
    {
      "cell_type": "code",
      "source": [
        "train_x, train_y = train_data['features'],train_data['labels']\n",
        "val_x, val_y = valid_data['features'],valid_data['labels']\n",
        "test_x,test_y = test_data['features'],test_data['labels']\n",
        "\n",
        "print('Train data shape',train_x.shape,'Train data label',train_y.shape)\n",
        "print('Test data shape',test_x.shape,'Test data label',test_y.shape)\n",
        "print('valid data shape',val_x.shape,'Valid data label',val_y.shape)"
      ],
      "metadata": {
        "colab": {
          "base_uri": "https://localhost:8080/"
        },
        "id": "Ng9atFjKpBi6",
        "outputId": "a631e51f-a7f2-4703-9bb7-a5211d872b9a"
      },
      "execution_count": 6,
      "outputs": [
        {
          "output_type": "stream",
          "name": "stdout",
          "text": [
            "Train data shape (34799, 32, 32, 3) Train data label (34799,)\n",
            "Test data shape (12630, 32, 32, 3) Test data label (12630,)\n",
            "valid data shape (4410, 32, 32, 3) Valid data label (4410,)\n"
          ]
        }
      ]
    },
    {
      "cell_type": "code",
      "source": [
        "import os\n",
        "num_samples = []\n",
        "for i in range(len(df)):\n",
        "    file_count = len(os.listdir('/content/drive/MyDrive/traffic_Data/DATA/'+str(i)+'/'))\n",
        "    num_samples.append(file_count)\n",
        "print(len(num_samples))"
      ],
      "metadata": {
        "colab": {
          "base_uri": "https://localhost:8080/"
        },
        "id": "V-qN2duEpJ1l",
        "outputId": "06389fa3-1d97-443d-909b-012d4cd727ec"
      },
      "execution_count": 21,
      "outputs": [
        {
          "output_type": "stream",
          "name": "stdout",
          "text": [
            "43\n"
          ]
        }
      ]
    },
    {
      "cell_type": "code",
      "source": [
        "from google.colab import drive\n",
        "drive.mount('/content/drive')"
      ],
      "metadata": {
        "id": "UJCu_MKFqdPF"
      },
      "execution_count": null,
      "outputs": []
    },
    {
      "cell_type": "code",
      "source": [
        "print(num_samples)"
      ],
      "metadata": {
        "colab": {
          "base_uri": "https://localhost:8080/"
        },
        "id": "laOHuO8kp_lT",
        "outputId": "126396c4-476f-478e-af9b-5db2eadc6b4f"
      },
      "execution_count": 22,
      "outputs": [
        {
          "output_type": "stream",
          "name": "stdout",
          "text": [
            "[118, 40, 80, 260, 98, 194, 78, 152, 8, 2, 70, 138, 96, 36, 128, 22, 142, 130, 8, 4, 18, 12, 18, 14, 100, 2, 126, 28, 446, 44, 150, 42, 14, 4, 26, 156, 40, 58, 30, 34, 32, 18, 32]\n"
          ]
        }
      ]
    },
    {
      "cell_type": "code",
      "source": [
        "plt.figure(figsize=(12,4))\n",
        "plt.bar(range(0, len(df)), num_samples)\n",
        "plt.title('distribution of the dataset')\n",
        "plt.xlabel('class_labels')\n",
        "plt.ylabel('number of images')\n",
        "plt.show()"
      ],
      "metadata": {
        "colab": {
          "base_uri": "https://localhost:8080/",
          "height": 260
        },
        "id": "jRWJl5iwqDar",
        "outputId": "d9c469f8-1a94-4e1b-f2dd-357677263886"
      },
      "execution_count": 23,
      "outputs": [
        {
          "output_type": "display_data",
          "data": {
            "text/plain": [
              "<Figure size 864x288 with 1 Axes>"
            ],
            "image/png": "[encoded data removed]"
          },
          "metadata": {
            "needs_background": "light"
          }
        }
      ]
    },
    {
      "cell_type": "code",
      "source": [
        "plt.imshow(train_x[3000])\n"
      ],
      "metadata": {
        "colab": {
          "base_uri": "https://localhost:8080/",
          "height": 283
        },
        "id": "kT5MYeXqvUjB",
        "outputId": "e7ac187a-9e90-4d0d-f9e2-8e88d7e942ff"
      },
      "execution_count": 24,
      "outputs": [
        {
          "output_type": "execute_result",
          "data": {
            "text/plain": [
              "<matplotlib.image.AxesImage at 0x7ff42a727f10>"
            ]
          },
          "metadata": {},
          "execution_count": 24
        },
        {
          "output_type": "display_data",
          "data": {
            "text/plain": [
              "<Figure size 432x288 with 1 Axes>"
            ],
            "image/png": "[encoded data removed]"
          },
          "metadata": {
            "needs_background": "light"
          }
        }
      ]
    },
    {
      "cell_type": "code",
      "source": [
        "def grayscale(image):\n",
        "    image = cv2.cvtColor(image,cv2.COLOR_BGR2GRAY)\n",
        "    return image\n",
        "\n",
        "img = grayscale(train_x[3000])\n",
        "plt.imshow(img, cmap = plt.get_cmap('gray'))"
      ],
      "metadata": {
        "colab": {
          "base_uri": "https://localhost:8080/",
          "height": 283
        },
        "id": "n-_DRhwSvWQD",
        "outputId": "2dc69806-d74f-413e-dc4c-3a36a647b75f"
      },
      "execution_count": 25,
      "outputs": [
        {
          "output_type": "execute_result",
          "data": {
            "text/plain": [
              "<matplotlib.image.AxesImage at 0x7ff42a720b10>"
            ]
          },
          "metadata": {},
          "execution_count": 25
        },
        {
          "output_type": "display_data",
          "data": {
            "text/plain": [
              "<Figure size 432x288 with 1 Axes>"
            ],
            "image/png": "[encoded data removed]"
          },
          "metadata": {
            "needs_background": "light"
          }
        }
      ]
    },
    {
      "cell_type": "code",
      "source": [
        "def equalize(image):\n",
        "    image = cv2.equalizeHist(image)\n",
        "    return image\n",
        "img = equalize(img)\n",
        "plt.imshow(img, cmap=plt.get_cmap('gray'))"
      ],
      "metadata": {
        "colab": {
          "base_uri": "https://localhost:8080/",
          "height": 283
        },
        "id": "0tv2JnJgvaok",
        "outputId": "48eb93b9-6711-49e7-c41e-bb6ed244f849"
      },
      "execution_count": 26,
      "outputs": [
        {
          "output_type": "execute_result",
          "data": {
            "text/plain": [
              "<matplotlib.image.AxesImage at 0x7ff42a626290>"
            ]
          },
          "metadata": {},
          "execution_count": 26
        },
        {
          "output_type": "display_data",
          "data": {
            "text/plain": [
              "<Figure size 432x288 with 1 Axes>"
            ],
            "image/png": "[encoded data removed]"
          },
          "metadata": {
            "needs_background": "light"
          }
        }
      ]
    },
    {
      "cell_type": "code",
      "source": [
        "def processing(image):\n",
        "    gray_img = grayscale(image)\n",
        "    img = equalize(gray_img) \n",
        "    img = img/255\n",
        "    return img"
      ],
      "metadata": {
        "id": "h_UJCA49vc7m"
      },
      "execution_count": 27,
      "outputs": []
    },
    {
      "cell_type": "code",
      "source": [
        "train_x = np.asarray(list(map(processing, train_x)))\n",
        "val_x = np.asarray(list(map(processing, val_x)))\n",
        "test_x = np.asarray(list(map(processing, test_x)))"
      ],
      "metadata": {
        "id": "sqNAySA3vfDH"
      },
      "execution_count": 28,
      "outputs": []
    },
    {
      "cell_type": "code",
      "source": [
        "plt.imshow(train_x[random.randint(0, len(train_x-1))],cmap=plt.get_cmap('gray'))\n"
      ],
      "metadata": {
        "colab": {
          "base_uri": "https://localhost:8080/",
          "height": 283
        },
        "id": "KkGc8OC8vhAu",
        "outputId": "c07e42af-de3a-4aac-9138-51734603d90d"
      },
      "execution_count": 29,
      "outputs": [
        {
          "output_type": "execute_result",
          "data": {
            "text/plain": [
              "<matplotlib.image.AxesImage at 0x7ff429af6d50>"
            ]
          },
          "metadata": {},
          "execution_count": 29
        },
        {
          "output_type": "display_data",
          "data": {
            "text/plain": [
              "<Figure size 432x288 with 1 Axes>"
            ],
            "image/png": "[encoded data removed]"
          },
          "metadata": {
            "needs_background": "light"
          }
        }
      ]
    },
    {
      "cell_type": "code",
      "source": [
        "train_x.shape[0]\n"
      ],
      "metadata": {
        "colab": {
          "base_uri": "https://localhost:8080/"
        },
        "id": "BbQDOoBNvko0",
        "outputId": "3ae5c83f-0f24-468c-8b7c-63a7762d9b82"
      },
      "execution_count": 30,
      "outputs": [
        {
          "output_type": "execute_result",
          "data": {
            "text/plain": [
              "34799"
            ]
          },
          "metadata": {},
          "execution_count": 30
        }
      ]
    },
    {
      "cell_type": "code",
      "source": [
        "train_x = train_x.reshape(train_x.shape[0],train_x.shape[1],train_x.shape[2],1)\n",
        "val_x = val_x.reshape(val_x.shape[0],val_x.shape[1],val_x.shape[2],1)\n",
        "test_x = test_x.reshape(test_x.shape[0],test_x.shape[1],test_x.shape[2],1)"
      ],
      "metadata": {
        "id": "zq6K-VsMvnTS"
      },
      "execution_count": 31,
      "outputs": []
    },
    {
      "cell_type": "code",
      "source": [
        "from keras.preprocessing.image import ImageDataGenerator\n",
        "datagen = ImageDataGenerator(width_shift_range=0.1,\n",
        "                            height_shift_range=0.1,\n",
        "                            zoom_range=0.2,\n",
        "                            shear_range=0.1,\n",
        "                            rotation_range=10.)\n",
        "datagen.fit(train_x)\n",
        "#batches = datagen.flow(train_x,train_y,batch_size=15)"
      ],
      "metadata": {
        "id": "QFYftltyvqU1"
      },
      "execution_count": 32,
      "outputs": []
    },
    {
      "cell_type": "code",
      "source": [
        "train_y = to_categorical(train_y,43)\n",
        "test_y = to_categorical(test_y,43)\n",
        "val_y = to_categorical(val_y,43)"
      ],
      "metadata": {
        "id": "eJzy7ov0vtB_"
      },
      "execution_count": 33,
      "outputs": []
    },
    {
      "cell_type": "code",
      "source": [
        "from keras.layers import ReLU\n",
        "def build_model():\n",
        "    model = Sequential()\n",
        "    model.add(Conv2D(60,(5,5),input_shape=(train_x.shape[1],train_x.shape[2],train_x.shape[3])))\n",
        "    model.add(ReLU())\n",
        "    model.add(Conv2D(60,(5,5)))\n",
        "    model.add(ReLU())\n",
        "    model.add(MaxPooling2D(pool_size=(2,2)))\n",
        "    \n",
        "    model.add(Conv2D(30,(3,3)))\n",
        "    model.add(ReLU())\n",
        "    model.add(Conv2D(30,(3,3)))\n",
        "    model.add(ReLU())\n",
        "    model.add(MaxPooling2D(pool_size=(2,2)))\n",
        "    \n",
        "    model.add(Flatten())\n",
        "    model.add(Dense(500,activation='relu'))\n",
        "    model.add(Dropout(0.5))\n",
        "    model.add(Dense(len(df['ClassId']),activation='softmax'))\n",
        "    \n",
        "    model.compile(Adam(lr=0.001), loss=\"categorical_crossentropy\",metrics=[\"accuracy\"])\n",
        "    return model\n",
        "    "
      ],
      "metadata": {
        "id": "zI1Mk7qFvvGP"
      },
      "execution_count": 34,
      "outputs": []
    },
    {
      "cell_type": "code",
      "source": [
        "model = build_model()\n",
        "print(model.summary())"
      ],
      "metadata": {
        "colab": {
          "base_uri": "https://localhost:8080/"
        },
        "id": "w_r-MsALvxV9",
        "outputId": "9734e4e7-f8e4-4f87-e3fd-6c64634155af"
      },
      "execution_count": 35,
      "outputs": [
        {
          "output_type": "stream",
          "name": "stdout",
          "text": [
            "Model: \"sequential\"\n",
            "_________________________________________________________________\n",
            " Layer (type)                Output Shape              Param #   \n",
            "=================================================================\n",
            " conv2d (Conv2D)             (None, 28, 28, 60)        1560      \n",
            "                                                                 \n",
            " re_lu (ReLU)                (None, 28, 28, 60)        0         \n",
            "                                                                 \n",
            " conv2d_1 (Conv2D)           (None, 24, 24, 60)        90060     \n",
            "                                                                 \n",
            " re_lu_1 (ReLU)              (None, 24, 24, 60)        0         \n",
            "                                                                 \n",
            " max_pooling2d (MaxPooling2D  (None, 12, 12, 60)       0         \n",
            " )                                                               \n",
            "                                                                 \n",
            " conv2d_2 (Conv2D)           (None, 10, 10, 30)        16230     \n",
            "                                                                 \n",
            " re_lu_2 (ReLU)              (None, 10, 10, 30)        0         \n",
            "                                                                 \n",
            " conv2d_3 (Conv2D)           (None, 8, 8, 30)          8130      \n",
            "                                                                 \n",
            " re_lu_3 (ReLU)              (None, 8, 8, 30)          0         \n",
            "                                                                 \n",
            " max_pooling2d_1 (MaxPooling  (None, 4, 4, 30)         0         \n",
            " 2D)                                                             \n",
            "                                                                 \n",
            " flatten (Flatten)           (None, 480)               0         \n",
            "                                                                 \n",
            " dense (Dense)               (None, 500)               240500    \n",
            "                                                                 \n",
            " dropout (Dropout)           (None, 500)               0         \n",
            "                                                                 \n",
            " dense_1 (Dense)             (None, 43)                21543     \n",
            "                                                                 \n",
            "=================================================================\n",
            "Total params: 378,023\n",
            "Trainable params: 378,023\n",
            "Non-trainable params: 0\n",
            "_________________________________________________________________\n",
            "None\n"
          ]
        },
        {
          "output_type": "stream",
          "name": "stderr",
          "text": [
            "/usr/local/lib/python3.7/dist-packages/keras/optimizers/optimizer_v2/adam.py:110: UserWarning: The `lr` argument is deprecated, use `learning_rate` instead.\n",
            "  super(Adam, self).__init__(name, **kwargs)\n"
          ]
        }
      ]
    },
    {
      "cell_type": "code",
      "source": [
        "history = model.fit_generator(datagen.flow(train_x,train_y,batch_size=64),\n",
        "                             steps_per_epoch=150,\n",
        "                             epochs=15,\n",
        "                             validation_data=(val_x,val_y),shuffle=1)"
      ],
      "metadata": {
        "colab": {
          "base_uri": "https://localhost:8080/"
        },
        "id": "B0rImFPOv0Uu",
        "outputId": "3da00af7-da4b-450f-d5a7-a90314acf2bc"
      },
      "execution_count": 36,
      "outputs": [
        {
          "output_type": "stream",
          "name": "stderr",
          "text": [
            "/usr/local/lib/python3.7/dist-packages/ipykernel_launcher.py:4: UserWarning: `Model.fit_generator` is deprecated and will be removed in a future version. Please use `Model.fit`, which supports generators.\n",
            "  after removing the cwd from sys.path.\n"
          ]
        },
        {
          "output_type": "stream",
          "name": "stdout",
          "text": [
            "Epoch 1/15\n",
            "150/150 [==============================] - 113s 749ms/step - loss: 3.2960 - accuracy: 0.1274 - val_loss: 1.9911 - val_accuracy: 0.4506\n",
            "Epoch 2/15\n",
            "150/150 [==============================] - 112s 744ms/step - loss: 1.8838 - accuracy: 0.4566 - val_loss: 0.8649 - val_accuracy: 0.7440\n",
            "Epoch 3/15\n",
            "150/150 [==============================] - 113s 755ms/step - loss: 1.2266 - accuracy: 0.6279 - val_loss: 0.5093 - val_accuracy: 0.8379\n",
            "Epoch 4/15\n",
            "150/150 [==============================] - 114s 758ms/step - loss: 0.9336 - accuracy: 0.7153 - val_loss: 0.3741 - val_accuracy: 0.8776\n",
            "Epoch 5/15\n",
            "150/150 [==============================] - 112s 745ms/step - loss: 0.7365 - accuracy: 0.7766 - val_loss: 0.2407 - val_accuracy: 0.9365\n",
            "Epoch 6/15\n",
            "150/150 [==============================] - 111s 742ms/step - loss: 0.6153 - accuracy: 0.8119 - val_loss: 0.1885 - val_accuracy: 0.9501\n",
            "Epoch 7/15\n",
            "150/150 [==============================] - 113s 752ms/step - loss: 0.5182 - accuracy: 0.8423 - val_loss: 0.1459 - val_accuracy: 0.9594\n",
            "Epoch 8/15\n",
            "150/150 [==============================] - 113s 753ms/step - loss: 0.4555 - accuracy: 0.8612 - val_loss: 0.1547 - val_accuracy: 0.9515\n",
            "Epoch 9/15\n",
            "150/150 [==============================] - 111s 737ms/step - loss: 0.3919 - accuracy: 0.8797 - val_loss: 0.0949 - val_accuracy: 0.9739\n",
            "Epoch 10/15\n",
            "150/150 [==============================] - 112s 750ms/step - loss: 0.3672 - accuracy: 0.8858 - val_loss: 0.1474 - val_accuracy: 0.9508\n",
            "Epoch 11/15\n",
            "150/150 [==============================] - 112s 749ms/step - loss: 0.3445 - accuracy: 0.8896 - val_loss: 0.0735 - val_accuracy: 0.9791\n",
            "Epoch 12/15\n",
            "150/150 [==============================] - 111s 739ms/step - loss: 0.3193 - accuracy: 0.9008 - val_loss: 0.1298 - val_accuracy: 0.9626\n",
            "Epoch 13/15\n",
            "150/150 [==============================] - 112s 749ms/step - loss: 0.3009 - accuracy: 0.9054 - val_loss: 0.1138 - val_accuracy: 0.9664\n",
            "Epoch 14/15\n",
            "150/150 [==============================] - 113s 753ms/step - loss: 0.2677 - accuracy: 0.9150 - val_loss: 0.0827 - val_accuracy: 0.9764\n",
            "Epoch 15/15\n",
            "150/150 [==============================] - 111s 738ms/step - loss: 0.2497 - accuracy: 0.9228 - val_loss: 0.1133 - val_accuracy: 0.9644\n"
          ]
        }
      ]
    },
    {
      "cell_type": "code",
      "source": [
        "plt.plot(history.history['loss'])\n",
        "plt.plot(history.history['val_loss'])\n",
        "plt.legend(['training','validation'])\n",
        "plt.title('Model loss')\n",
        "plt.xlabel('epoch')\n",
        "plt.ylabel('loss')"
      ],
      "metadata": {
        "colab": {
          "base_uri": "https://localhost:8080/",
          "height": 312
        },
        "id": "ZuSZESNsv21U",
        "outputId": "ae4516ba-cd44-44be-d523-2c6beb7b8943"
      },
      "execution_count": 37,
      "outputs": [
        {
          "output_type": "execute_result",
          "data": {
            "text/plain": [
              "Text(0, 0.5, 'loss')"
            ]
          },
          "metadata": {},
          "execution_count": 37
        },
        {
          "output_type": "display_data",
          "data": {
            "text/plain": [
              "<Figure size 432x288 with 1 Axes>"
            ],
            "image/png": "[encoded data removed]"
          },
          "metadata": {
            "needs_background": "light"
          }
        }
      ]
    },
    {
      "cell_type": "code",
      "source": [
        "score = model.evaluate(test_x, test_y , verbose = 0)\n",
        "print(\"The test score is: \",score[0])\n",
        "print(\"The Accuracy score is: \",score[1])"
      ],
      "metadata": {
        "colab": {
          "base_uri": "https://localhost:8080/"
        },
        "id": "F6U92f9mv434",
        "outputId": "3a09b355-ca42-4890-b275-8dbe27e9424d"
      },
      "execution_count": 38,
      "outputs": [
        {
          "output_type": "stream",
          "name": "stdout",
          "text": [
            "The test score is:  0.1932905614376068\n",
            "The Accuracy score is:  0.9452890157699585\n"
          ]
        }
      ]
    },
    {
      "cell_type": "code",
      "source": [
        "import requests\n",
        "from PIL import Image\n",
        "url = 'https://c8.alamy.com/comp/A0RX23/cars-and-automobiles-must-turn-left-ahead-sign-A0RX23.jpg'\n",
        "r = requests.get(url, stream=True)\n",
        "img = Image.open(r.raw)\n",
        "plt.imshow(img)"
      ],
      "metadata": {
        "colab": {
          "base_uri": "https://localhost:8080/",
          "height": 286
        },
        "id": "lbLMd35jv6_M",
        "outputId": "151ec3f0-b529-45ef-eea3-31d09ce58c4e"
      },
      "execution_count": 39,
      "outputs": [
        {
          "output_type": "execute_result",
          "data": {
            "text/plain": [
              "<matplotlib.image.AxesImage at 0x7ff4241d3450>"
            ]
          },
          "metadata": {},
          "execution_count": 39
        },
        {
          "output_type": "display_data",
          "data": {
            "text/plain": [
              "<Figure size 432x288 with 1 Axes>"
            ],
            "image/png": "[encoded data removed]"
          },
          "metadata": {
            "needs_background": "light"
          }
        }
      ]
    },
    {
      "cell_type": "code",
      "source": [
        "img = np.asarray(img)\n",
        "img = cv2.resize(img,(32,32))\n",
        "img = processing(img)\n",
        "plt.imshow(img, cmap=plt.get_cmap('gray'))"
      ],
      "metadata": {
        "colab": {
          "base_uri": "https://localhost:8080/",
          "height": 283
        },
        "id": "V67crChUv9P0",
        "outputId": "e32db396-f3d2-4aea-d35b-314d375679cd"
      },
      "execution_count": 40,
      "outputs": [
        {
          "output_type": "execute_result",
          "data": {
            "text/plain": [
              "<matplotlib.image.AxesImage at 0x7ff423df3a90>"
            ]
          },
          "metadata": {},
          "execution_count": 40
        },
        {
          "output_type": "display_data",
          "data": {
            "text/plain": [
              "<Figure size 432x288 with 1 Axes>"
            ],
            "image/png": "[encoded data removed]"
          },
          "metadata": {
            "needs_background": "light"
          }
        }
      ]
    },
    {
      "cell_type": "code",
      "source": [
        "df.columns"
      ],
      "metadata": {
        "colab": {
          "base_uri": "https://localhost:8080/"
        },
        "id": "DxbD-_Vrv_c3",
        "outputId": "de53adad-6467-4e2d-c478-2be3c2d99015"
      },
      "execution_count": 41,
      "outputs": [
        {
          "output_type": "execute_result",
          "data": {
            "text/plain": [
              "Index(['ClassId', 'SignName'], dtype='object')"
            ]
          },
          "metadata": {},
          "execution_count": 41
        }
      ]
    },
    {
      "cell_type": "code",
      "source": [
        "import tensorflow"
      ],
      "metadata": {
        "id": "UN7KxLYH47MH"
      },
      "execution_count": 49,
      "outputs": []
    },
    {
      "cell_type": "code",
      "source": [
        "img = img.reshape(1,32,32,1)\n",
        "\n",
        "predictions = (model.predict(img) > 0.5).astype(\"int32\")\n",
        "\n",
        "print('Predicted class is ',str(predictions))\n",
        "#print('The traffic sign is ',df['SignName'][int(predictions)])"
      ],
      "metadata": {
        "colab": {
          "base_uri": "https://localhost:8080/"
        },
        "id": "cA3bq0PvwAzR",
        "outputId": "49cffb32-0e04-4a64-fd8b-7c275ab98ff2"
      },
      "execution_count": 54,
      "outputs": [
        {
          "output_type": "stream",
          "name": "stdout",
          "text": [
            "1/1 [==============================] - 0s 23ms/step\n",
            "Predicted class is  [[0 0 0 0 0 0 0 0 0 0 0 0 0 0 0 0 0 0 0 0 0 0 0 0 0 0 0 0 0 0 0 0 0 0 1 0\n",
            "  0 0 0 0 0 0 0]]\n"
          ]
        }
      ]
    }
  ]
}